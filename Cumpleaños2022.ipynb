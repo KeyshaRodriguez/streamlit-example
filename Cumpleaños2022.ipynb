{
  "nbformat": 4,
  "nbformat_minor": 0,
  "metadata": {
    "colab": {
      "name": "Cumpleaños2022.ipynb",
      "provenance": [],
      "collapsed_sections": [],
      "authorship_tag": "ABX9TyN7mfcxRTi7o/RMnLxVbHKb",
      "include_colab_link": true
    },
    "kernelspec": {
      "name": "python3",
      "display_name": "Python 3"
    },
    "language_info": {
      "name": "python"
    }
  },
  "cells": [
    {
      "cell_type": "markdown",
      "metadata": {
        "id": "view-in-github",
        "colab_type": "text"
      },
      "source": [
        "<a href=\"https://colab.research.google.com/github/KeyshaRodriguez/streamlit-example/blob/master/Cumplea%C3%B1os2022.ipynb\" target=\"_parent\"><img src=\"https://colab.research.google.com/assets/colab-badge.svg\" alt=\"Open In Colab\"/></a>"
      ]
    },
    {
      "cell_type": "code",
      "execution_count": null,
      "metadata": {
        "id": "scAM2_lT7wpk"
      },
      "outputs": [],
      "source": [
        ""
      ]
    },
    {
      "cell_type": "code",
      "metadata": {
        "colab": {
          "base_uri": "https://localhost:8080/",
          "height": 35
        },
        "id": "EK9DH1DtBhku",
        "outputId": "d2ea740f-b201-4280-ba39-bff4b5ea9ea7"
      },
      "source": [
        "\n",
        "\n",
        "%%html\n",
        "\n",
        "<marquee style='width: 50%; color: Green;'><b>¡Feliz cumpleaños, camarada! Muchas carreras, felicidad y coritos sanos ¡Queloqué! ¡Eeeeeeeesoooooooooo! </b></marque\n",
        "\n",
        "\n",
        " \n",
        "%%html\n",
        "\n",
        "\n",
        "\n",
        "\n",
        "\n"
      ],
      "execution_count": 1,
      "outputs": [
        {
          "output_type": "display_data",
          "data": {
            "text/plain": [
              "<IPython.core.display.HTML object>"
            ],
            "text/html": [
              "\n",
              "<marquee style='width: 50%; color: Green;'><b>¡Feliz cumpleaños, camarada! Muchas carreras, felicidad y coritos sanos ¡Queloqué! ¡Eeeeeeeesoooooooooo! </b></marque\n",
              "\n",
              "\n",
              " \n",
              "%%html\n",
              "\n",
              "\n",
              "\n",
              "\n"
            ]
          },
          "metadata": {}
        }
      ]
    },
    {
      "cell_type": "code",
      "metadata": {
        "colab": {
          "base_uri": "https://localhost:8080/"
        },
        "id": "lSGw_vtbNMX2",
        "outputId": "bc1fc204-65d3-45f2-86b3-3b5c741535d2"
      },
      "source": [
        "import numpy as np\n",
        "np.diag([\"F\",\"E\",\"L\",\"I\",\"C\",\"I\",\"T\",\"A\",\"C\",\"I\",\"O\",\"N\",\"E\",\"S\"])"
      ],
      "execution_count": null,
      "outputs": [
        {
          "output_type": "execute_result",
          "data": {
            "text/plain": [
              "array([['F', '', '', '', '', '', '', '', '', '', '', '', '', ''],\n",
              "       ['', 'E', '', '', '', '', '', '', '', '', '', '', '', ''],\n",
              "       ['', '', 'L', '', '', '', '', '', '', '', '', '', '', ''],\n",
              "       ['', '', '', 'I', '', '', '', '', '', '', '', '', '', ''],\n",
              "       ['', '', '', '', 'C', '', '', '', '', '', '', '', '', ''],\n",
              "       ['', '', '', '', '', 'I', '', '', '', '', '', '', '', ''],\n",
              "       ['', '', '', '', '', '', 'T', '', '', '', '', '', '', ''],\n",
              "       ['', '', '', '', '', '', '', 'A', '', '', '', '', '', ''],\n",
              "       ['', '', '', '', '', '', '', '', 'C', '', '', '', '', ''],\n",
              "       ['', '', '', '', '', '', '', '', '', 'I', '', '', '', ''],\n",
              "       ['', '', '', '', '', '', '', '', '', '', 'O', '', '', ''],\n",
              "       ['', '', '', '', '', '', '', '', '', '', '', 'N', '', ''],\n",
              "       ['', '', '', '', '', '', '', '', '', '', '', '', 'E', ''],\n",
              "       ['', '', '', '', '', '', '', '', '', '', '', '', '', 'S']],\n",
              "      dtype='<U1')"
            ]
          },
          "metadata": {},
          "execution_count": 19
        }
      ]
    }
  ]
}